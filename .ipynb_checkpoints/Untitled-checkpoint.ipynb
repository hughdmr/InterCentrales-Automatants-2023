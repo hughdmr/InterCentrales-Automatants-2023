{
 "cells": [
  {
   "cell_type": "code",
   "execution_count": 3,
   "id": "9b4f44a8",
   "metadata": {},
   "outputs": [],
   "source": [
    "import numpy as np"
   ]
  },
  {
   "cell_type": "code",
   "execution_count": 4,
   "id": "20ecb8e3",
   "metadata": {},
   "outputs": [],
   "source": [
    "import torch"
   ]
  },
  {
   "cell_type": "code",
   "execution_count": 23,
   "id": "8b69fea9",
   "metadata": {},
   "outputs": [],
   "source": [
    "inputs = torch.randn(50,16,50,100)"
   ]
  },
  {
   "cell_type": "code",
   "execution_count": 24,
   "id": "b0f26c12",
   "metadata": {},
   "outputs": [],
   "source": [
    "class ResNet(torch.nn.Module):\n",
    "    def __init__(self):\n",
    "        super().__init__()\n",
    "        self.conv1 = torch.nn.Conv2d(16,32,kernel_size=3)\n",
    "        self.conv2 = torch.nn.Conv2d(32,64,kernel_size=3)\n",
    "        self.conv3 = torch.nn.Conv2d(128,64,kernel_size=3)\n",
    "        self.conv4 = torch.nn.Conv2d(128,64,kernel_size=3)\n",
    "    \n",
    "    def forward(self,inputs):\n",
    "        o1 = self.conv1(inputs)\n",
    "        o2 = self.conv2(o1)\n",
    "        o3 = self.conv3(o2+inputs)\n",
    "        o4 = self.conv4(o3+o1)\n",
    "        return o4\n",
    "        "
   ]
  },
  {
   "cell_type": "code",
   "execution_count": 25,
   "id": "5d951a06",
   "metadata": {},
   "outputs": [],
   "source": [
    "model = ResNet()"
   ]
  },
  {
   "cell_type": "code",
   "execution_count": 26,
   "id": "fab1fe4e",
   "metadata": {},
   "outputs": [
    {
     "ename": "RuntimeError",
     "evalue": "The size of tensor a (92) must match the size of tensor b (96) at non-singleton dimension 3",
     "output_type": "error",
     "traceback": [
      "\u001b[1;31m---------------------------------------------------------------------------\u001b[0m",
      "\u001b[1;31mRuntimeError\u001b[0m                              Traceback (most recent call last)",
      "Cell \u001b[1;32mIn[26], line 1\u001b[0m\n\u001b[1;32m----> 1\u001b[0m output \u001b[38;5;241m=\u001b[39m \u001b[43mmodel\u001b[49m\u001b[38;5;241;43m.\u001b[39;49m\u001b[43mforward\u001b[49m\u001b[43m(\u001b[49m\u001b[43minputs\u001b[49m\u001b[43m)\u001b[49m\n",
      "Cell \u001b[1;32mIn[24], line 12\u001b[0m, in \u001b[0;36mResNet.forward\u001b[1;34m(self, inputs)\u001b[0m\n\u001b[0;32m     10\u001b[0m o1 \u001b[38;5;241m=\u001b[39m \u001b[38;5;28mself\u001b[39m\u001b[38;5;241m.\u001b[39mconv1(inputs)\n\u001b[0;32m     11\u001b[0m o2 \u001b[38;5;241m=\u001b[39m \u001b[38;5;28mself\u001b[39m\u001b[38;5;241m.\u001b[39mconv2(o1)\n\u001b[1;32m---> 12\u001b[0m o3 \u001b[38;5;241m=\u001b[39m \u001b[38;5;28mself\u001b[39m\u001b[38;5;241m.\u001b[39mconv3(\u001b[43mo2\u001b[49m\u001b[38;5;241;43m+\u001b[39;49m\u001b[43minputs\u001b[49m)\n\u001b[0;32m     13\u001b[0m o4 \u001b[38;5;241m=\u001b[39m \u001b[38;5;28mself\u001b[39m\u001b[38;5;241m.\u001b[39mconv4(o3\u001b[38;5;241m+\u001b[39mo1)\n\u001b[0;32m     14\u001b[0m \u001b[38;5;28;01mreturn\u001b[39;00m o4\n",
      "\u001b[1;31mRuntimeError\u001b[0m: The size of tensor a (92) must match the size of tensor b (96) at non-singleton dimension 3"
     ]
    }
   ],
   "source": [
    "output = model.forward(inputs)"
   ]
  },
  {
   "cell_type": "code",
   "execution_count": null,
   "id": "5beb754e",
   "metadata": {},
   "outputs": [],
   "source": []
  }
 ],
 "metadata": {
  "kernelspec": {
   "display_name": "Python 3 (ipykernel)",
   "language": "python",
   "name": "python3"
  },
  "language_info": {
   "codemirror_mode": {
    "name": "ipython",
    "version": 3
   },
   "file_extension": ".py",
   "mimetype": "text/x-python",
   "name": "python",
   "nbconvert_exporter": "python",
   "pygments_lexer": "ipython3",
   "version": "3.10.9"
  }
 },
 "nbformat": 4,
 "nbformat_minor": 5
}
