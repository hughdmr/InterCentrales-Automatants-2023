{
 "cells": [
  {
   "cell_type": "code",
   "execution_count": 3,
   "id": "477b1f2b",
   "metadata": {},
   "outputs": [],
   "source": [
    "import numpy as np\n",
    "import torch"
   ]
  },
  {
   "cell_type": "code",
   "execution_count": 35,
   "id": "55dfd18a",
   "metadata": {},
   "outputs": [],
   "source": [
    "inputs = torch.randn(50,16,50,100)"
   ]
  },
  {
   "cell_type": "code",
   "execution_count": 64,
   "id": "42f4035a",
   "metadata": {},
   "outputs": [],
   "source": [
    "class ResNet(torch.nn.Module):\n",
    "    def __init__(self):\n",
    "        super().__init__()\n",
    "        self.conv1 = torch.nn.Conv2d(16,32,kernel_size=3,padding=1)\n",
    "        self.conv2 = torch.nn.Conv2d(32,64,kernel_size=3,padding=1)\n",
    "        self.conv3 = torch.nn.Conv2d(64,128,kernel_size=3,padding=1)\n",
    "        self.conv4 = torch.nn.Conv2d(128,64,kernel_size=3,padding=1)\n",
    "        \n",
    "        self.convretro1 = torch.nn.Conv2d(16,64,kernel_size=1)\n",
    "        self.convretro2 = torch.nn.Conv2d(32,128,kernel_size=1)\n",
    "    \n",
    "    def forward(self,inputs):\n",
    "        o1 = self.conv1(inputs)\n",
    "        o2 = self.conv2(o1)\n",
    "        \n",
    "        o3 = self.conv3(o2+self.convretro1(inputs))\n",
    "        print(o2.shape, self.convretro1(inputs).shape)\n",
    "        o4 = self.conv4(o3+self.convretro2(o1))\n",
    "        \n",
    "\n",
    "        return o4\n",
    "        "
   ]
  },
  {
   "cell_type": "code",
   "execution_count": 65,
   "id": "5152a69f",
   "metadata": {},
   "outputs": [],
   "source": [
    "model = ResNet()"
   ]
  },
  {
   "cell_type": "code",
   "execution_count": 66,
   "id": "a3d46168",
   "metadata": {},
   "outputs": [
    {
     "name": "stdout",
     "output_type": "stream",
     "text": [
      "torch.Size([50, 64, 50, 100]) torch.Size([50, 64, 50, 100])\n"
     ]
    }
   ],
   "source": [
    "output = model.forward(inputs)"
   ]
  },
  {
   "cell_type": "code",
   "execution_count": null,
   "id": "28d483da",
   "metadata": {},
   "outputs": [],
   "source": []
  },
  {
   "cell_type": "code",
   "execution_count": null,
   "id": "c7520074",
   "metadata": {},
   "outputs": [],
   "source": []
  }
 ],
 "metadata": {
  "kernelspec": {
   "display_name": "Python 3 (ipykernel)",
   "language": "python",
   "name": "python3"
  },
  "language_info": {
   "codemirror_mode": {
    "name": "ipython",
    "version": 3
   },
   "file_extension": ".py",
   "mimetype": "text/x-python",
   "name": "python",
   "nbconvert_exporter": "python",
   "pygments_lexer": "ipython3",
   "version": "3.10.9"
  }
 },
 "nbformat": 4,
 "nbformat_minor": 5
}
